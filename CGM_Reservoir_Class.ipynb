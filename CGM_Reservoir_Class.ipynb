{
 "cells": [
  {
   "cell_type": "code",
   "execution_count": 13,
   "metadata": {},
   "outputs": [],
   "source": [
    "#Name: Nihar Koppolu\n",
    "#Advisor: Christof Teuscher\n",
    "\n",
    "#Purpose: The purpose of this code is to hold the specifications of CGM reservoirs that predict 5, 10, 15 minute future CGM glucose levels. "
   ]
  },
  {
   "cell_type": "code",
   "execution_count": 14,
   "metadata": {},
   "outputs": [],
   "source": []
  },
  {
   "cell_type": "code",
   "execution_count": 16,
   "metadata": {},
   "outputs": [],
   "source": [
    "from reservoirpy.nodes import Reservoir, Ridge"
   ]
  },
  {
   "cell_type": "code",
   "execution_count": 17,
   "metadata": {},
   "outputs": [],
   "source": [
    "class CGM_Reservoir:\n",
    "\n",
    "    #initializes any starting data members\n",
    "    def __init__():\n",
    "        pass\n",
    "\n",
    "\n",
    "    def Train():\n",
    "        while 1:\n",
    "            pass\n",
    "\n",
    "    def Test():\n",
    "        pass\n",
    "\n",
    "\n",
    "    "
   ]
  }
 ],
 "metadata": {
  "interpreter": {
   "hash": "03a1a876d9a900ab33edf188cbdd56b1f5d4ad4e4a10622ee254568dd5d68bba"
  },
  "kernelspec": {
   "display_name": "Python 3.10.4 ('Gillespy2')",
   "language": "python",
   "name": "python3"
  },
  "language_info": {
   "codemirror_mode": {
    "name": "ipython",
    "version": 3
   },
   "file_extension": ".py",
   "mimetype": "text/x-python",
   "name": "python",
   "nbconvert_exporter": "python",
   "pygments_lexer": "ipython3",
   "version": "3.10.4"
  },
  "orig_nbformat": 4
 },
 "nbformat": 4,
 "nbformat_minor": 2
}
