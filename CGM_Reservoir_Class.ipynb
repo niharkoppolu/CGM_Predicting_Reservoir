{
 "cells": [
  {
   "cell_type": "code",
   "execution_count": 1,
   "metadata": {},
   "outputs": [],
   "source": [
    "#Name: Nihar Koppolu\n",
    "#Advisor: Christof Teuscher\n",
    "\n",
    "#Purpose: The purpose of this code is to hold the specifications of CGM reservoirs that predict 5, 10, 15 minute future CGM glucose levels. "
   ]
  },
  {
   "cell_type": "code",
   "execution_count": 2,
   "metadata": {},
   "outputs": [],
   "source": [
    "import import_ipynb\n",
    "import reservoirpy as rpy\n",
    "\n",
    "rpy.verbosity(0)#Not sure what these 2 commands do \n",
    "rpy.set_seed(42)  "
   ]
  },
  {
   "cell_type": "code",
   "execution_count": 3,
   "metadata": {},
   "outputs": [],
   "source": [
    "class CGM_Reservoir:\n",
    "\n",
    "    #initializes any starting data members\n",
    "    def __init__():\n",
    "        pass"
   ]
  }
 ],
 "metadata": {
  "interpreter": {
   "hash": "03a1a876d9a900ab33edf188cbdd56b1f5d4ad4e4a10622ee254568dd5d68bba"
  },
  "kernelspec": {
   "display_name": "Python 3.10.4 ('Gillespy2')",
   "language": "python",
   "name": "python3"
  },
  "language_info": {
   "codemirror_mode": {
    "name": "ipython",
    "version": 3
   },
   "file_extension": ".py",
   "mimetype": "text/x-python",
   "name": "python",
   "nbconvert_exporter": "python",
   "pygments_lexer": "ipython3",
   "version": "3.10.4"
  },
  "orig_nbformat": 4
 },
 "nbformat": 4,
 "nbformat_minor": 2
}
